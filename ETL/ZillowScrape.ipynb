{
 "cells": [
  {
   "cell_type": "code",
   "execution_count": 1,
   "metadata": {},
   "outputs": [],
   "source": [
    "from bs4 import BeautifulSoup\n",
    "import requests"
   ]
  },
  {
   "cell_type": "code",
   "execution_count": 2,
   "metadata": {},
   "outputs": [],
   "source": [
    "url = 'https://www.zillow.com/houston-tx/'"
   ]
  },
  {
   "cell_type": "code",
   "execution_count": 3,
   "metadata": {},
   "outputs": [],
   "source": [
    "response = requests.get(url) "
   ]
  },
  {
   "cell_type": "code",
   "execution_count": 4,
   "metadata": {},
   "outputs": [],
   "source": [
    "soup = BeautifulSoup(response.text, 'html.parser') "
   ]
  },
  {
   "cell_type": "code",
   "execution_count": 5,
   "metadata": {},
   "outputs": [
    {
     "name": "stdout",
     "output_type": "stream",
     "text": [
      "<html>\n",
      " <head>\n",
      "  <meta content=\"noindex, nofollow\" name=\"robots\"/>\n",
      "  <script src=\"https://www.google.com/recaptcha/api.js\">\n",
      "  </script>\n",
      "  <link href=\"https://www.zillowstatic.com/vstatic/091b98a/static/css/z-pages/captcha.css\" media=\"screen\" rel=\"stylesheet\" type=\"text/css\"/>\n",
      "  <script>\n",
      "   function handleCaptcha(response) {\n",
      "                var vid = getQueryString(\"vid\"); // getQueryString is implemented below\n",
      "                var uuid = getQueryString(\"uuid\");\n",
      "                var name = '_pxCaptcha';\n",
      "                var cookieValue =  btoa(JSON.stringify({r:response,v:vid,u:uuid}));\n",
      "                var cookieParts = [name, '=', cookieValue, '; path=/'];\n",
      "                cookieParts.push('; domain=' + window.location.hostname);\n",
      "                cookieParts.push('; max-age=10');//expire after 10 seconds\n",
      "                document.cookie = cookieParts.join('');\n",
      "                var originalURL = getOriginalUrl(\"url\");\n",
      "                var originalHost = window.location.host;\n",
      "                var newHref = window.location.protocol + \"//\" + originalHost;\n",
      "                originalURL = originalURL || '/';\n",
      "                newHref = newHref + originalURL;\n",
      "                window.location.href = newHref;\n",
      "            }\n",
      "\n",
      "            function getQueryString(name, url) {\n",
      "                if (!url) url = window.location.href;\n",
      "                name = name.replace(/[\\[\\]]/g, \"\\\\$&\");\n",
      "                var regex = new RegExp(\"[?&]\" + name + \"(=([^&#]*)|&|#|$)\"),\n",
      "                results = regex.exec(url);\n",
      "                if (!results) return null;\n",
      "                if (!results[2]) return '';\n",
      "                return decodeURIComponent(results[2].replace(/\\+/g, \" \"));\n",
      "            }\n",
      "\n",
      "            function getOriginalUrl(name) {\n",
      "                var url = getQueryString(name);\n",
      "                if (!url) return null;\n",
      "                var regExMatcher = new RegExp(\"(([^&#@]*)|&|#|$)\");\n",
      "                var matches = regExMatcher.exec(url);\n",
      "                if (!matches) return null;\n",
      "                return matches[0];\n",
      "            }\n",
      "\n",
      "            document.addEventListener(\"DOMContentLoaded\", function (e) {\n",
      "                var uuidVerifyRegExp = /^\\{?[0-9a-fA-F]{8}-[0-9a-fA-F]{4}-[0-9a-fA-F]{4}-[0-9a-fA-F]{4}-[0-9a-fA-F]{12}\\}?$/i;\n",
      "                document.getElementById(\"uuid\").innerText = \"UUID: \" + uuidVerifyRegExp.exec(getQueryString(\"uuid\"));\n",
      "            });\n",
      "  </script>\n",
      " </head>\n",
      " <body>\n",
      "  <main class=\"zsg-layout-content\">\n",
      "   <div class=\"error-content-block\">\n",
      "    <div class=\"error-text-content\">\n",
      "     <!-- <h1>Captcha</h1> -->\n",
      "     <h5>\n",
      "      Please verify you're a human to continue.\n",
      "     </h5>\n",
      "     <div class=\"captcha-container\" id=\"content\">\n",
      "      <div class=\"g-recaptcha\" data-callback=\"handleCaptcha\" data-sitekey=\"6Lcj-R8TAAAAABs3FrRPuQhLMbp5QrHsHufzLf7b\" data-theme=\"white\">\n",
      "      </div>\n",
      "     </div>\n",
      "     <img alt=\"Zillow\" height=\"14\" src=\"https://www.zillowstatic.com/static/logos/logo-65x14.png\" width=\"65\"/>\n",
      "    </div>\n",
      "   </div>\n",
      "  </main>\n",
      "  <h4 class=\"uuid-string zsg-fineprint\" id=\"uuid\">\n",
      "  </h4>\n",
      " </body>\n",
      "</html>\n",
      "<!-- H:032  T:5ms  S:2686  R:Wed Feb 27 20:48:55 PST 2019  B:5.0.58952-master.3473755~delivery_ready.c31d47a -->\n",
      "\n"
     ]
    }
   ],
   "source": [
    "print(soup.prettify()) "
   ]
  },
  {
   "cell_type": "code",
   "execution_count": null,
   "metadata": {},
   "outputs": [],
   "source": []
  }
 ],
 "metadata": {
  "kernelspec": {
   "display_name": "Python 3",
   "language": "python",
   "name": "python3"
  },
  "language_info": {
   "codemirror_mode": {
    "name": "ipython",
    "version": 3
   },
   "file_extension": ".py",
   "mimetype": "text/x-python",
   "name": "python",
   "nbconvert_exporter": "python",
   "pygments_lexer": "ipython3",
   "version": "3.7.2"
  }
 },
 "nbformat": 4,
 "nbformat_minor": 2
}
